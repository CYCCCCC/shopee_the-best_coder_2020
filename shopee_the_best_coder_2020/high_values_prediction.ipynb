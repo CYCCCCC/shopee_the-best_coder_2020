{
 "cells": [
  {
   "cell_type": "markdown",
   "metadata": {},
   "source": [
    "# Import"
   ]
  },
  {
   "cell_type": "code",
   "execution_count": 2,
   "metadata": {
    "_cell_guid": "79c7e3d0-c299-4dcb-8224-4455121ee9b0",
    "_uuid": "d629ff2d2480ee46fbb7e2d37f6b5fab8052498a"
   },
   "outputs": [],
   "source": [
    "import numpy as np\n",
    "import pandas as pd\n",
    "pd.set_option('display.max_rows', 500)\n",
    "pd.set_option('display.max_columns', 100)\n",
    "\n",
    "from itertools import product\n",
    "from sklearn.preprocessing import LabelEncoder\n",
    "\n",
    "import seaborn as sns\n",
    "import matplotlib.pyplot as plt\n",
    "%matplotlib inline\n",
    "\n",
    "from sklearn.model_selection import cross_val_score, GridSearchCV, KFold, RandomizedSearchCV, train_test_split\n",
    "\n",
    "import xgboost as xgb\n",
    "from xgboost import XGBRegressor\n",
    "from xgboost import XGBClassifier\n",
    "from xgboost import plot_importance\n",
    "\n",
    "from sklearn.metrics import mean_squared_error, mean_absolute_error, average_precision_score, f1_score\n",
    "from sklearn.metrics import roc_curve, auc, roc_auc_score, accuracy_score, confusion_matrix,classification_report\n",
    "\n",
    "\n",
    "def plot_features(booster, figsize):    \n",
    "    fig, ax = plt.subplots(1,1,figsize=figsize)\n",
    "    return plot_importance(booster=booster, ax=ax)\n",
    "\n",
    "from datetime import datetime\n",
    "import datetime as dt\n",
    "import time\n",
    "import sys\n",
    "import gc\n",
    "import pickle\n",
    "sys.version_info\n",
    "\n",
    "import joblib\n",
    "import pickle"
   ]
  },
  {
   "cell_type": "markdown",
   "metadata": {},
   "source": [
    "original data from shopee"
   ]
  },
  {
   "cell_type": "code",
   "execution_count": 18,
   "metadata": {},
   "outputs": [],
   "source": [
    "login = pd.read_csv('login.csv')\n",
    "purchase_detail = pd.read_csv('purchase_detail.csv')\n",
    "user_label_train = pd.read_csv('user_label_train.csv')\n",
    "submission = pd.read_csv('submission.csv')"
   ]
  },
  {
   "cell_type": "markdown",
   "metadata": {},
   "source": [
    "user_info is already processed\n",
    "* transform gender to 1/0\n",
    "* calculate age by birthday\n",
    "* calculate enroll days by enroll date\n",
    "* eliminate extreme and unreasonable value"
   ]
  },
  {
   "cell_type": "code",
   "execution_count": 4,
   "metadata": {},
   "outputs": [],
   "source": [
    "user_info = pd.read_csv('user_info_processed.csv')"
   ]
  },
  {
   "cell_type": "markdown",
   "metadata": {},
   "source": [
    "# Data process"
   ]
  },
  {
   "cell_type": "markdown",
   "metadata": {},
   "source": [
    "## base"
   ]
  },
  {
   "cell_type": "markdown",
   "metadata": {},
   "source": [
    "setting data type\n",
    "* training:1\n",
    "* testing:2"
   ]
  },
  {
   "cell_type": "code",
   "execution_count": 88,
   "metadata": {},
   "outputs": [],
   "source": [
    "user_label_train['data_type'] = 1\n",
    "\n",
    "submission['data_type'] = 2\n",
    "submission['label'] = 0"
   ]
  },
  {
   "cell_type": "markdown",
   "metadata": {},
   "source": [
    "merge base data with user info"
   ]
  },
  {
   "cell_type": "code",
   "execution_count": 89,
   "metadata": {},
   "outputs": [],
   "source": [
    "df = pd.concat([user_label_train, submission], axis=0)\n",
    "df = pd.merge(df, user_info, how='left', on='userid')"
   ]
  },
  {
   "cell_type": "markdown",
   "metadata": {},
   "source": [
    "## purchase detail"
   ]
  },
  {
   "cell_type": "markdown",
   "metadata": {},
   "source": [
    "### count and amount"
   ]
  },
  {
   "cell_type": "code",
   "execution_count": 91,
   "metadata": {},
   "outputs": [],
   "source": [
    "purchase_detail['date'] = purchase_detail['grass_date'].apply( lambda x: np.datetime64(x))\n",
    "purchase_detail['month'] = purchase_detail['date'].dt.month"
   ]
  },
  {
   "cell_type": "code",
   "execution_count": 92,
   "metadata": {},
   "outputs": [],
   "source": [
    "purchase = purchase_detail.groupby(['userid','month']).agg(avg_count=('order_count', 'mean'),\n",
    "                                                           total_count=('order_count', 'sum'),\n",
    "                                                           avg_amount=('total_amount', 'mean'),\n",
    "                                                           total_amount=('total_amount', 'sum')).reset_index()"
   ]
  },
  {
   "cell_type": "code",
   "execution_count": 93,
   "metadata": {},
   "outputs": [],
   "source": [
    "avg_amount = purchase.pivot(index='userid', columns='month', values='avg_amount').reset_index()\n",
    "avg_amount.columns = ['userid', 'avg_amount_2','avg_amount_3','avg_amount_4','avg_amount_5','avg_amount_6','avg_amount_7']\n",
    "avg_amount = avg_amount.fillna(0)\n",
    "\n",
    "total_amount = purchase.pivot(index='userid', columns='month', values='total_amount').reset_index()\n",
    "total_amount.columns = ['userid', 'total_amount_2','total_amount_3','total_amount_4','total_amount_5','total_amount_6','total_amount_7']\n",
    "total_amount = total_amount.fillna(0)\n",
    "\n",
    "avg_count = purchase.pivot(index='userid', columns='month', values='avg_count').reset_index()\n",
    "avg_count.columns = ['userid', 'avg_count_2','avg_count_3','avg_count_4','avg_count_5','avg_count_6','avg_count_7']\n",
    "avg_count = avg_count.fillna(0)\n",
    "\n",
    "total_count = purchase.pivot(index='userid', columns='month', values='total_count').reset_index()\n",
    "total_count.columns = ['userid', 'total_count_2','total_count_3','total_count_4','total_count_5','total_count_6','total_count_7']\n",
    "total_count = total_count.fillna(0)"
   ]
  },
  {
   "cell_type": "code",
   "execution_count": 94,
   "metadata": {},
   "outputs": [],
   "source": [
    "df = pd.merge(df, avg_amount, how='left', on='userid')\n",
    "df = pd.merge(df, total_amount, how='left', on='userid')\n",
    "df = pd.merge(df, avg_count, how='left', on='userid')\n",
    "df = pd.merge(df, total_count, how='left', on='userid')"
   ]
  },
  {
   "cell_type": "markdown",
   "metadata": {},
   "source": [
    "### category"
   ]
  },
  {
   "cell_type": "code",
   "execution_count": 96,
   "metadata": {},
   "outputs": [],
   "source": [
    "cat = purchase_detail.groupby(['userid','category_encoded'], as_index=False).size().reset_index()\n",
    "cat.columns = ['userid', 'category_encoded', 'size']\n",
    "cat = cat.pivot(index='userid', columns='category_encoded', values='size').reset_index()\n",
    "cat = cat.fillna(0)"
   ]
  },
  {
   "cell_type": "code",
   "execution_count": 97,
   "metadata": {},
   "outputs": [],
   "source": [
    "df = pd.merge(df, cat, how='left', on='userid')"
   ]
  },
  {
   "cell_type": "markdown",
   "metadata": {},
   "source": [
    "### purchase variation"
   ]
  },
  {
   "cell_type": "code",
   "execution_count": 98,
   "metadata": {},
   "outputs": [],
   "source": [
    "df['total_amount_56']=df['total_amount_6']/(df['total_amount_5']+0.00000000001)\n",
    "df['total_amount_67']=df['total_amount_7']/(df['total_amount_6']+0.00000000001)\n",
    "df['total_amount_45']=df['total_amount_5']/(df['total_amount_4']+0.00000000001)\n",
    "df['total_amount_27']=df['total_amount_7']/(df['total_amount_2']+0.00000000001)"
   ]
  },
  {
   "cell_type": "code",
   "execution_count": 99,
   "metadata": {},
   "outputs": [],
   "source": [
    "df['avg_amount_56']=df['avg_amount_6']/(df['avg_amount_5']+0.00000000001)\n",
    "df['avg_amount_67']=df['avg_amount_7']/(df['avg_amount_6']+0.00000000001)\n",
    "df['avg_amount_45']=df['avg_amount_5']/(df['avg_amount_4']+0.00000000001)\n",
    "df['avg_amount_27']=df['avg_amount_7']/(df['avg_amount_2']+0.00000000001)"
   ]
  },
  {
   "cell_type": "code",
   "execution_count": 100,
   "metadata": {},
   "outputs": [
    {
     "data": {
      "text/html": [
       "<div>\n",
       "<style scoped>\n",
       "    .dataframe tbody tr th:only-of-type {\n",
       "        vertical-align: middle;\n",
       "    }\n",
       "\n",
       "    .dataframe tbody tr th {\n",
       "        vertical-align: top;\n",
       "    }\n",
       "\n",
       "    .dataframe thead th {\n",
       "        text-align: right;\n",
       "    }\n",
       "</style>\n",
       "<table border=\"1\" class=\"dataframe\">\n",
       "  <thead>\n",
       "    <tr style=\"text-align: right;\">\n",
       "      <th></th>\n",
       "      <th>userid</th>\n",
       "      <th>label</th>\n",
       "      <th>data_type</th>\n",
       "      <th>gender</th>\n",
       "      <th>is_seller</th>\n",
       "      <th>age</th>\n",
       "      <th>enroll_how_long</th>\n",
       "      <th>avg_amount_2</th>\n",
       "      <th>avg_amount_3</th>\n",
       "      <th>avg_amount_4</th>\n",
       "      <th>avg_amount_5</th>\n",
       "      <th>avg_amount_6</th>\n",
       "      <th>avg_amount_7</th>\n",
       "      <th>total_amount_2</th>\n",
       "      <th>total_amount_3</th>\n",
       "      <th>total_amount_4</th>\n",
       "      <th>total_amount_5</th>\n",
       "      <th>total_amount_6</th>\n",
       "      <th>total_amount_7</th>\n",
       "      <th>avg_count_2</th>\n",
       "      <th>avg_count_3</th>\n",
       "      <th>avg_count_4</th>\n",
       "      <th>avg_count_5</th>\n",
       "      <th>avg_count_6</th>\n",
       "      <th>avg_count_7</th>\n",
       "      <th>total_count_2</th>\n",
       "      <th>total_count_3</th>\n",
       "      <th>total_count_4</th>\n",
       "      <th>total_count_5</th>\n",
       "      <th>total_count_6</th>\n",
       "      <th>total_count_7</th>\n",
       "      <th>1</th>\n",
       "      <th>2</th>\n",
       "      <th>3</th>\n",
       "      <th>4</th>\n",
       "      <th>5</th>\n",
       "      <th>6</th>\n",
       "      <th>7</th>\n",
       "      <th>8</th>\n",
       "      <th>9</th>\n",
       "      <th>10</th>\n",
       "      <th>11</th>\n",
       "      <th>12</th>\n",
       "      <th>13</th>\n",
       "      <th>14</th>\n",
       "      <th>15</th>\n",
       "      <th>16</th>\n",
       "      <th>17</th>\n",
       "      <th>18</th>\n",
       "      <th>19</th>\n",
       "      <th>20</th>\n",
       "      <th>21</th>\n",
       "      <th>22</th>\n",
       "      <th>23</th>\n",
       "      <th>total_amount_56</th>\n",
       "      <th>total_amount_67</th>\n",
       "      <th>total_amount_45</th>\n",
       "      <th>total_amount_27</th>\n",
       "      <th>avg_amount_56</th>\n",
       "      <th>avg_amount_67</th>\n",
       "      <th>avg_amount_45</th>\n",
       "      <th>avg_amount_27</th>\n",
       "    </tr>\n",
       "  </thead>\n",
       "  <tbody>\n",
       "    <tr>\n",
       "      <th>0</th>\n",
       "      <td>243381</td>\n",
       "      <td>0</td>\n",
       "      <td>1</td>\n",
       "      <td>1.0</td>\n",
       "      <td>0</td>\n",
       "      <td>20.0</td>\n",
       "      <td>1251</td>\n",
       "      <td>1.000000</td>\n",
       "      <td>250.000000</td>\n",
       "      <td>3.000000</td>\n",
       "      <td>0.000000</td>\n",
       "      <td>1.000000</td>\n",
       "      <td>0.000000</td>\n",
       "      <td>1.0</td>\n",
       "      <td>250.0</td>\n",
       "      <td>3.0</td>\n",
       "      <td>0.0</td>\n",
       "      <td>1.0</td>\n",
       "      <td>0.0</td>\n",
       "      <td>1.000000</td>\n",
       "      <td>1.00</td>\n",
       "      <td>2.000000</td>\n",
       "      <td>0.000000</td>\n",
       "      <td>1.000000</td>\n",
       "      <td>0.000000</td>\n",
       "      <td>1.0</td>\n",
       "      <td>1.0</td>\n",
       "      <td>2.0</td>\n",
       "      <td>0.0</td>\n",
       "      <td>1.0</td>\n",
       "      <td>0.0</td>\n",
       "      <td>0.0</td>\n",
       "      <td>0.0</td>\n",
       "      <td>0.0</td>\n",
       "      <td>0.0</td>\n",
       "      <td>1.0</td>\n",
       "      <td>0.0</td>\n",
       "      <td>0.0</td>\n",
       "      <td>0.0</td>\n",
       "      <td>0.0</td>\n",
       "      <td>0.0</td>\n",
       "      <td>0.0</td>\n",
       "      <td>1.0</td>\n",
       "      <td>0.0</td>\n",
       "      <td>1.0</td>\n",
       "      <td>0.0</td>\n",
       "      <td>0.0</td>\n",
       "      <td>0.0</td>\n",
       "      <td>0.0</td>\n",
       "      <td>0.0</td>\n",
       "      <td>1.0</td>\n",
       "      <td>0.0</td>\n",
       "      <td>0.0</td>\n",
       "      <td>0.0</td>\n",
       "      <td>1.000000e+11</td>\n",
       "      <td>0.000000</td>\n",
       "      <td>0.000000</td>\n",
       "      <td>0.000000</td>\n",
       "      <td>1.000000e+11</td>\n",
       "      <td>0.000000</td>\n",
       "      <td>0.000000</td>\n",
       "      <td>0.000000</td>\n",
       "    </tr>\n",
       "    <tr>\n",
       "      <th>1</th>\n",
       "      <td>150139</td>\n",
       "      <td>1</td>\n",
       "      <td>1</td>\n",
       "      <td>1.0</td>\n",
       "      <td>1</td>\n",
       "      <td>NaN</td>\n",
       "      <td>1463</td>\n",
       "      <td>1.000000</td>\n",
       "      <td>0.000000</td>\n",
       "      <td>0.000000</td>\n",
       "      <td>0.000000</td>\n",
       "      <td>2.333333</td>\n",
       "      <td>2.000000</td>\n",
       "      <td>3.0</td>\n",
       "      <td>0.0</td>\n",
       "      <td>0.0</td>\n",
       "      <td>0.0</td>\n",
       "      <td>7.0</td>\n",
       "      <td>6.0</td>\n",
       "      <td>1.000000</td>\n",
       "      <td>0.00</td>\n",
       "      <td>0.000000</td>\n",
       "      <td>0.000000</td>\n",
       "      <td>2.333333</td>\n",
       "      <td>2.000000</td>\n",
       "      <td>3.0</td>\n",
       "      <td>0.0</td>\n",
       "      <td>0.0</td>\n",
       "      <td>0.0</td>\n",
       "      <td>7.0</td>\n",
       "      <td>6.0</td>\n",
       "      <td>1.0</td>\n",
       "      <td>0.0</td>\n",
       "      <td>0.0</td>\n",
       "      <td>0.0</td>\n",
       "      <td>0.0</td>\n",
       "      <td>1.0</td>\n",
       "      <td>0.0</td>\n",
       "      <td>4.0</td>\n",
       "      <td>0.0</td>\n",
       "      <td>3.0</td>\n",
       "      <td>0.0</td>\n",
       "      <td>0.0</td>\n",
       "      <td>0.0</td>\n",
       "      <td>0.0</td>\n",
       "      <td>0.0</td>\n",
       "      <td>0.0</td>\n",
       "      <td>0.0</td>\n",
       "      <td>0.0</td>\n",
       "      <td>0.0</td>\n",
       "      <td>0.0</td>\n",
       "      <td>0.0</td>\n",
       "      <td>0.0</td>\n",
       "      <td>0.0</td>\n",
       "      <td>7.000000e+11</td>\n",
       "      <td>0.857143</td>\n",
       "      <td>0.000000</td>\n",
       "      <td>2.000000</td>\n",
       "      <td>2.333333e+11</td>\n",
       "      <td>0.857143</td>\n",
       "      <td>0.000000</td>\n",
       "      <td>2.000000</td>\n",
       "    </tr>\n",
       "    <tr>\n",
       "      <th>2</th>\n",
       "      <td>305902</td>\n",
       "      <td>1</td>\n",
       "      <td>1</td>\n",
       "      <td>1.0</td>\n",
       "      <td>0</td>\n",
       "      <td>33.0</td>\n",
       "      <td>1095</td>\n",
       "      <td>5.000000</td>\n",
       "      <td>1.500000</td>\n",
       "      <td>1.500000</td>\n",
       "      <td>2.000000</td>\n",
       "      <td>2.000000</td>\n",
       "      <td>3.000000</td>\n",
       "      <td>5.0</td>\n",
       "      <td>3.0</td>\n",
       "      <td>3.0</td>\n",
       "      <td>2.0</td>\n",
       "      <td>2.0</td>\n",
       "      <td>6.0</td>\n",
       "      <td>5.000000</td>\n",
       "      <td>1.00</td>\n",
       "      <td>1.500000</td>\n",
       "      <td>2.000000</td>\n",
       "      <td>2.000000</td>\n",
       "      <td>3.000000</td>\n",
       "      <td>5.0</td>\n",
       "      <td>2.0</td>\n",
       "      <td>3.0</td>\n",
       "      <td>2.0</td>\n",
       "      <td>2.0</td>\n",
       "      <td>6.0</td>\n",
       "      <td>0.0</td>\n",
       "      <td>1.0</td>\n",
       "      <td>0.0</td>\n",
       "      <td>0.0</td>\n",
       "      <td>0.0</td>\n",
       "      <td>1.0</td>\n",
       "      <td>0.0</td>\n",
       "      <td>4.0</td>\n",
       "      <td>0.0</td>\n",
       "      <td>1.0</td>\n",
       "      <td>0.0</td>\n",
       "      <td>1.0</td>\n",
       "      <td>0.0</td>\n",
       "      <td>1.0</td>\n",
       "      <td>0.0</td>\n",
       "      <td>0.0</td>\n",
       "      <td>0.0</td>\n",
       "      <td>0.0</td>\n",
       "      <td>0.0</td>\n",
       "      <td>0.0</td>\n",
       "      <td>0.0</td>\n",
       "      <td>0.0</td>\n",
       "      <td>0.0</td>\n",
       "      <td>1.000000e+00</td>\n",
       "      <td>3.000000</td>\n",
       "      <td>0.666667</td>\n",
       "      <td>1.200000</td>\n",
       "      <td>1.000000e+00</td>\n",
       "      <td>1.500000</td>\n",
       "      <td>1.333333</td>\n",
       "      <td>0.600000</td>\n",
       "    </tr>\n",
       "    <tr>\n",
       "      <th>3</th>\n",
       "      <td>159981</td>\n",
       "      <td>0</td>\n",
       "      <td>1</td>\n",
       "      <td>0.0</td>\n",
       "      <td>1</td>\n",
       "      <td>35.0</td>\n",
       "      <td>1441</td>\n",
       "      <td>5.416667</td>\n",
       "      <td>17.666667</td>\n",
       "      <td>5.000000</td>\n",
       "      <td>3.500000</td>\n",
       "      <td>6.250000</td>\n",
       "      <td>1.857143</td>\n",
       "      <td>65.0</td>\n",
       "      <td>53.0</td>\n",
       "      <td>15.0</td>\n",
       "      <td>21.0</td>\n",
       "      <td>25.0</td>\n",
       "      <td>13.0</td>\n",
       "      <td>2.583333</td>\n",
       "      <td>2.00</td>\n",
       "      <td>1.333333</td>\n",
       "      <td>1.833333</td>\n",
       "      <td>5.750000</td>\n",
       "      <td>1.285714</td>\n",
       "      <td>31.0</td>\n",
       "      <td>6.0</td>\n",
       "      <td>4.0</td>\n",
       "      <td>11.0</td>\n",
       "      <td>23.0</td>\n",
       "      <td>9.0</td>\n",
       "      <td>0.0</td>\n",
       "      <td>0.0</td>\n",
       "      <td>1.0</td>\n",
       "      <td>0.0</td>\n",
       "      <td>1.0</td>\n",
       "      <td>13.0</td>\n",
       "      <td>0.0</td>\n",
       "      <td>5.0</td>\n",
       "      <td>3.0</td>\n",
       "      <td>0.0</td>\n",
       "      <td>0.0</td>\n",
       "      <td>1.0</td>\n",
       "      <td>1.0</td>\n",
       "      <td>0.0</td>\n",
       "      <td>5.0</td>\n",
       "      <td>0.0</td>\n",
       "      <td>0.0</td>\n",
       "      <td>1.0</td>\n",
       "      <td>1.0</td>\n",
       "      <td>0.0</td>\n",
       "      <td>0.0</td>\n",
       "      <td>1.0</td>\n",
       "      <td>2.0</td>\n",
       "      <td>1.190476e+00</td>\n",
       "      <td>0.520000</td>\n",
       "      <td>1.400000</td>\n",
       "      <td>0.200000</td>\n",
       "      <td>1.785714e+00</td>\n",
       "      <td>0.297143</td>\n",
       "      <td>0.700000</td>\n",
       "      <td>0.342857</td>\n",
       "    </tr>\n",
       "    <tr>\n",
       "      <th>4</th>\n",
       "      <td>490632</td>\n",
       "      <td>0</td>\n",
       "      <td>1</td>\n",
       "      <td>1.0</td>\n",
       "      <td>1</td>\n",
       "      <td>NaN</td>\n",
       "      <td>375</td>\n",
       "      <td>2.900000</td>\n",
       "      <td>2.000000</td>\n",
       "      <td>2.333333</td>\n",
       "      <td>2.111111</td>\n",
       "      <td>1.250000</td>\n",
       "      <td>2.333333</td>\n",
       "      <td>29.0</td>\n",
       "      <td>16.0</td>\n",
       "      <td>14.0</td>\n",
       "      <td>19.0</td>\n",
       "      <td>5.0</td>\n",
       "      <td>7.0</td>\n",
       "      <td>1.600000</td>\n",
       "      <td>1.25</td>\n",
       "      <td>1.166667</td>\n",
       "      <td>1.333333</td>\n",
       "      <td>1.250000</td>\n",
       "      <td>2.000000</td>\n",
       "      <td>16.0</td>\n",
       "      <td>10.0</td>\n",
       "      <td>7.0</td>\n",
       "      <td>12.0</td>\n",
       "      <td>5.0</td>\n",
       "      <td>6.0</td>\n",
       "      <td>0.0</td>\n",
       "      <td>2.0</td>\n",
       "      <td>0.0</td>\n",
       "      <td>0.0</td>\n",
       "      <td>7.0</td>\n",
       "      <td>2.0</td>\n",
       "      <td>0.0</td>\n",
       "      <td>13.0</td>\n",
       "      <td>0.0</td>\n",
       "      <td>5.0</td>\n",
       "      <td>0.0</td>\n",
       "      <td>0.0</td>\n",
       "      <td>1.0</td>\n",
       "      <td>6.0</td>\n",
       "      <td>1.0</td>\n",
       "      <td>1.0</td>\n",
       "      <td>0.0</td>\n",
       "      <td>1.0</td>\n",
       "      <td>0.0</td>\n",
       "      <td>1.0</td>\n",
       "      <td>0.0</td>\n",
       "      <td>0.0</td>\n",
       "      <td>0.0</td>\n",
       "      <td>2.631579e-01</td>\n",
       "      <td>1.400000</td>\n",
       "      <td>1.357143</td>\n",
       "      <td>0.241379</td>\n",
       "      <td>5.921053e-01</td>\n",
       "      <td>1.866667</td>\n",
       "      <td>0.904762</td>\n",
       "      <td>0.804598</td>\n",
       "    </tr>\n",
       "  </tbody>\n",
       "</table>\n",
       "</div>"
      ],
      "text/plain": [
       "   userid  label  data_type  gender  is_seller   age  enroll_how_long  \\\n",
       "0  243381      0          1     1.0          0  20.0             1251   \n",
       "1  150139      1          1     1.0          1   NaN             1463   \n",
       "2  305902      1          1     1.0          0  33.0             1095   \n",
       "3  159981      0          1     0.0          1  35.0             1441   \n",
       "4  490632      0          1     1.0          1   NaN              375   \n",
       "\n",
       "   avg_amount_2  avg_amount_3  avg_amount_4  avg_amount_5  avg_amount_6  \\\n",
       "0      1.000000    250.000000      3.000000      0.000000      1.000000   \n",
       "1      1.000000      0.000000      0.000000      0.000000      2.333333   \n",
       "2      5.000000      1.500000      1.500000      2.000000      2.000000   \n",
       "3      5.416667     17.666667      5.000000      3.500000      6.250000   \n",
       "4      2.900000      2.000000      2.333333      2.111111      1.250000   \n",
       "\n",
       "   avg_amount_7  total_amount_2  total_amount_3  total_amount_4  \\\n",
       "0      0.000000             1.0           250.0             3.0   \n",
       "1      2.000000             3.0             0.0             0.0   \n",
       "2      3.000000             5.0             3.0             3.0   \n",
       "3      1.857143            65.0            53.0            15.0   \n",
       "4      2.333333            29.0            16.0            14.0   \n",
       "\n",
       "   total_amount_5  total_amount_6  total_amount_7  avg_count_2  avg_count_3  \\\n",
       "0             0.0             1.0             0.0     1.000000         1.00   \n",
       "1             0.0             7.0             6.0     1.000000         0.00   \n",
       "2             2.0             2.0             6.0     5.000000         1.00   \n",
       "3            21.0            25.0            13.0     2.583333         2.00   \n",
       "4            19.0             5.0             7.0     1.600000         1.25   \n",
       "\n",
       "   avg_count_4  avg_count_5  avg_count_6  avg_count_7  total_count_2  \\\n",
       "0     2.000000     0.000000     1.000000     0.000000            1.0   \n",
       "1     0.000000     0.000000     2.333333     2.000000            3.0   \n",
       "2     1.500000     2.000000     2.000000     3.000000            5.0   \n",
       "3     1.333333     1.833333     5.750000     1.285714           31.0   \n",
       "4     1.166667     1.333333     1.250000     2.000000           16.0   \n",
       "\n",
       "   total_count_3  total_count_4  total_count_5  total_count_6  total_count_7  \\\n",
       "0            1.0            2.0            0.0            1.0            0.0   \n",
       "1            0.0            0.0            0.0            7.0            6.0   \n",
       "2            2.0            3.0            2.0            2.0            6.0   \n",
       "3            6.0            4.0           11.0           23.0            9.0   \n",
       "4           10.0            7.0           12.0            5.0            6.0   \n",
       "\n",
       "     1    2    3    4    5     6    7     8    9   10   11   12   13   14  \\\n",
       "0  0.0  0.0  0.0  0.0  1.0   0.0  0.0   0.0  0.0  0.0  0.0  1.0  0.0  1.0   \n",
       "1  1.0  0.0  0.0  0.0  0.0   1.0  0.0   4.0  0.0  3.0  0.0  0.0  0.0  0.0   \n",
       "2  0.0  1.0  0.0  0.0  0.0   1.0  0.0   4.0  0.0  1.0  0.0  1.0  0.0  1.0   \n",
       "3  0.0  0.0  1.0  0.0  1.0  13.0  0.0   5.0  3.0  0.0  0.0  1.0  1.0  0.0   \n",
       "4  0.0  2.0  0.0  0.0  7.0   2.0  0.0  13.0  0.0  5.0  0.0  0.0  1.0  6.0   \n",
       "\n",
       "    15   16   17   18   19   20   21   22   23  total_amount_56  \\\n",
       "0  0.0  0.0  0.0  0.0  0.0  1.0  0.0  0.0  0.0     1.000000e+11   \n",
       "1  0.0  0.0  0.0  0.0  0.0  0.0  0.0  0.0  0.0     7.000000e+11   \n",
       "2  0.0  0.0  0.0  0.0  0.0  0.0  0.0  0.0  0.0     1.000000e+00   \n",
       "3  5.0  0.0  0.0  1.0  1.0  0.0  0.0  1.0  2.0     1.190476e+00   \n",
       "4  1.0  1.0  0.0  1.0  0.0  1.0  0.0  0.0  0.0     2.631579e-01   \n",
       "\n",
       "   total_amount_67  total_amount_45  total_amount_27  avg_amount_56  \\\n",
       "0         0.000000         0.000000         0.000000   1.000000e+11   \n",
       "1         0.857143         0.000000         2.000000   2.333333e+11   \n",
       "2         3.000000         0.666667         1.200000   1.000000e+00   \n",
       "3         0.520000         1.400000         0.200000   1.785714e+00   \n",
       "4         1.400000         1.357143         0.241379   5.921053e-01   \n",
       "\n",
       "   avg_amount_67  avg_amount_45  avg_amount_27  \n",
       "0       0.000000       0.000000       0.000000  \n",
       "1       0.857143       0.000000       2.000000  \n",
       "2       1.500000       1.333333       0.600000  \n",
       "3       0.297143       0.700000       0.342857  \n",
       "4       1.866667       0.904762       0.804598  "
      ]
     },
     "execution_count": 100,
     "metadata": {},
     "output_type": "execute_result"
    }
   ],
   "source": [
    "df.head()"
   ]
  },
  {
   "cell_type": "markdown",
   "metadata": {},
   "source": [
    "## login"
   ]
  },
  {
   "cell_type": "markdown",
   "metadata": {},
   "source": [
    "### average and total"
   ]
  },
  {
   "cell_type": "code",
   "execution_count": 101,
   "metadata": {},
   "outputs": [],
   "source": [
    "login['date'] = pd.to_datetime(login['date'])\n",
    "login['login_mm'] = login['date'].dt.month"
   ]
  },
  {
   "cell_type": "code",
   "execution_count": 102,
   "metadata": {},
   "outputs": [],
   "source": [
    "login_avg = login.groupby(['userid','login_mm'], as_index=False).agg({'login_times': 'mean'})\n",
    "\n",
    "login_avg = login_avg.pivot(index='userid', columns='login_mm', values=['login_times']).reset_index()\n",
    "login_avg.columns = ['userid', 'avg_login_2','avg_login_3','avg_login_4','avg_login_5','avg_login_6','avg_login_7']"
   ]
  },
  {
   "cell_type": "code",
   "execution_count": 103,
   "metadata": {},
   "outputs": [],
   "source": [
    "login_sum =login.groupby(['userid','login_mm'], as_index=False).agg({'login_times': 'sum'})\n",
    "\n",
    "login_sum = login_sum.pivot(index='userid', columns='login_mm', values=['login_times']).reset_index()\n",
    "login_sum.columns = ['userid', 'tot_login_2','tot_login_3','tot_login_4','tot_login_5','tot_login_6','tot_login_7']"
   ]
  },
  {
   "cell_type": "code",
   "execution_count": 104,
   "metadata": {},
   "outputs": [],
   "source": [
    "df = pd.merge(df, login_avg, how='left', on='userid')\n",
    "df = pd.merge(df, login_sum, how='left', on='userid')"
   ]
  },
  {
   "cell_type": "markdown",
   "metadata": {},
   "source": [
    "### login variation"
   ]
  },
  {
   "cell_type": "code",
   "execution_count": 105,
   "metadata": {},
   "outputs": [],
   "source": [
    "df['rate_login_56']=df['avg_login_6']/(df['avg_login_5']+0.00000000001)\n",
    "df['rate_login_67']=df['avg_login_7']/(df['avg_login_6']+0.00000000001)\n",
    "df['rate_login_45']=df['avg_login_5']/(df['avg_login_4']+0.00000000001)\n",
    "df['rate_login_27']=df['avg_login_7']/(df['avg_login_2']+0.00000000001)"
   ]
  },
  {
   "cell_type": "markdown",
   "metadata": {},
   "source": [
    "## Final data set"
   ]
  },
  {
   "cell_type": "code",
   "execution_count": 108,
   "metadata": {},
   "outputs": [],
   "source": [
    "df_all = df.copy()"
   ]
  },
  {
   "cell_type": "markdown",
   "metadata": {},
   "source": [
    "# Modeling"
   ]
  },
  {
   "cell_type": "markdown",
   "metadata": {},
   "source": [
    "## training"
   ]
  },
  {
   "cell_type": "code",
   "execution_count": 110,
   "metadata": {},
   "outputs": [],
   "source": [
    "exclude_col = [\n",
    "    'userid',\n",
    "    'data_type']\n",
    "\n",
    "y_col = ['label']\n",
    "\n",
    "x_col = list(set(df_all.columns.tolist())-set(exclude_col)-set(y_col))"
   ]
  },
  {
   "cell_type": "code",
   "execution_count": 112,
   "metadata": {},
   "outputs": [],
   "source": [
    "x_train = df_all[df_all['data_type']==1][x_col]\n",
    "y_train = df_all[df_all['data_type']==1][y_col]\n",
    "\n",
    "x_train, x_valid, y_train, y_valid = train_test_split(x_train, y_train, test_size = 0.3, random_state = 1)"
   ]
  },
  {
   "cell_type": "code",
   "execution_count": 113,
   "metadata": {},
   "outputs": [],
   "source": [
    "train_dm = xgb.DMatrix(data=x_train, label=y_train)\n",
    "valid_dm = xgb.DMatrix(data=x_valid, label=y_valid)"
   ]
  },
  {
   "cell_type": "code",
   "execution_count": 114,
   "metadata": {},
   "outputs": [],
   "source": [
    "params ={ 'booster':'gbtree',\n",
    "              \n",
    "          'binary':'logistic',   \n",
    "          'eval_metric': 'auc',\n",
    "         \n",
    "          'max_depth': 7,\n",
    "          'min_child_weight':100, \n",
    "          'gamma':0, \n",
    "          'scale_pos_weight':7,\n",
    "           \n",
    "          'subsample':0.8,\n",
    "          'colsample_bytree':0.8,\n",
    "          'eta':0.1,  \n",
    "         \n",
    "          'random_state':7,\n",
    "          'silent':0 \n",
    "        }\n",
    "\n",
    "\n",
    "evallist = [(train_dm,'train'), (valid_dm,'eval')]\n",
    "evals_result = {}"
   ]
  },
  {
   "cell_type": "code",
   "execution_count": null,
   "metadata": {},
   "outputs": [],
   "source": [
    "model = xgb.train(params, train_dm, num_boost_round=1000, evals=evallist, early_stopping_rounds=30, evals_result=evals_result)"
   ]
  },
  {
   "cell_type": "markdown",
   "metadata": {},
   "source": [
    "### feature importance"
   ]
  },
  {
   "cell_type": "markdown",
   "metadata": {},
   "source": [
    "* find the important features and create new features  "
   ]
  },
  {
   "cell_type": "code",
   "execution_count": 116,
   "metadata": {},
   "outputs": [
    {
     "data": {
      "text/plain": [
       "<matplotlib.axes._subplots.AxesSubplot at 0x1188b0650>"
      ]
     },
     "execution_count": 116,
     "metadata": {},
     "output_type": "execute_result"
    },
    {
     "data": {
      "image/png": "[encoded data removed]",
      "text/plain": [
       "<Figure size 720x1008 with 1 Axes>"
      ]
     },
     "metadata": {
      "needs_background": "light"
     },
     "output_type": "display_data"
    }
   ],
   "source": [
    "plot_features(model, (10,14))"
   ]
  },
  {
   "cell_type": "markdown",
   "metadata": {},
   "source": [
    "## final model"
   ]
  },
  {
   "cell_type": "code",
   "execution_count": 117,
   "metadata": {},
   "outputs": [],
   "source": [
    "params ={ 'booster':'gbtree',\n",
    "              \n",
    "          'binary':'logistic',   \n",
    "          'eval_metric': 'auc',\n",
    "         \n",
    "          'max_depth': 7,\n",
    "          'min_child_weight':100, \n",
    "          'gamma':0, \n",
    "          'scale_pos_weight':7,\n",
    "           \n",
    "          'subsample':0.8,\n",
    "          'colsample_bytree':0.8,\n",
    "          'eta':0.1,  \n",
    "         \n",
    "          'random_state':7,\n",
    "          'silent':0 \n",
    "        }\n"
   ]
  },
  {
   "cell_type": "code",
   "execution_count": 118,
   "metadata": {},
   "outputs": [],
   "source": [
    "x_all = df_all[df_all['data_type']==1][x_col]\n",
    "y_all = df_all[df_all['data_type']==1][y_col]\n",
    "all_dm = xgb.DMatrix(data=x_all, label=y_all)"
   ]
  },
  {
   "cell_type": "code",
   "execution_count": 119,
   "metadata": {},
   "outputs": [
    {
     "name": "stdout",
     "output_type": "stream",
     "text": [
      "[11:44:36] WARNING: /private/var/folders/bc/wfl4zykj6d12k36jq7qfh8g00000gn/T/pip-install-sblw_y2e/xgboost/xgboost/src/learner.cc:328: \n",
      "Parameters: { binary, silent } might not be used.\n",
      "\n",
      "  This may not be accurate due to some parameters are only used in language bindings but\n",
      "  passed down to XGBoost core.  Or some parameters are not used but slip through this\n",
      "  verification. Please open an issue if you find above cases.\n",
      "\n",
      "\n"
     ]
    }
   ],
   "source": [
    "# num_boost_round is setting the best iteration\n",
    "model = xgb.train(params, all_dm, num_boost_round=300)"
   ]
  },
  {
   "cell_type": "markdown",
   "metadata": {},
   "source": [
    "## prediction"
   ]
  },
  {
   "cell_type": "code",
   "execution_count": 144,
   "metadata": {},
   "outputs": [
    {
     "data": {
      "text/plain": [
       "array([ 0.67801774,  0.91292274,  0.9460194 , ...,  0.98105407,\n",
       "        0.5888169 , -0.01573628], dtype=float32)"
      ]
     },
     "execution_count": 144,
     "metadata": {},
     "output_type": "execute_result"
    }
   ],
   "source": [
    "x_test = df_all[df_all['data_type']==2][x_col]\n",
    "test_dm = xgb.DMatrix(data = x_test)\n",
    "\n",
    "y_pred = model.predict(test_dm)"
   ]
  }
 ],
 "metadata": {
  "kernelspec": {
   "display_name": "Python 3",
   "language": "python",
   "name": "python3"
  },
  "language_info": {
   "codemirror_mode": {
    "name": "ipython",
    "version": 3
   },
   "file_extension": ".py",
   "mimetype": "text/x-python",
   "name": "python",
   "nbconvert_exporter": "python",
   "pygments_lexer": "ipython3",
   "version": "3.7.7"
  }
 },
 "nbformat": 4,
 "nbformat_minor": 4
}
